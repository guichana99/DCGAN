{
  "nbformat": 4,
  "nbformat_minor": 0,
  "metadata": {
    "colab": {
      "provenance": []
    },
    "kernelspec": {
      "name": "python3",
      "display_name": "Python 3"
    },
    "language_info": {
      "name": "python"
    }
  },
  "cells": [
    {
      "cell_type": "code",
      "execution_count": null,
      "metadata": {
        "id": "vpTBcsBTUNL7"
      },
      "outputs": [],
      "source": [
        "#먼저 Kaggle Account에서 Create New API Token -> kaggle.json 다운로드\n",
        "#코드 돌리기 -> 파일 선택 뜨면 kaggle.json 넣기\n",
        "#username이랑 key 뜨면 성공!\n",
        "!pip install kaggle\n",
        "from google.colab import files\n",
        "files.upload()"
      ]
    },
    {
      "cell_type": "code",
      "source": [
        "#파일 제대로 올라갔는지 한 번 더 확인 -> kaggle.json이 나오면 성공\n",
        "!ls -1ha kaggle.json"
      ],
      "metadata": {
        "id": "oU_DGkceUjj-"
      },
      "execution_count": null,
      "outputs": []
    },
    {
      "cell_type": "code",
      "source": [
        "#API 쓰려면 .json을 .kaggle 폴더로 이동시켜야한다\n",
        "!mkdir -p ~/.kaggle\n",
        "!cp kaggle.json ~/.kaggle/\n",
        "\n",
        "# Permission Warning 방지\n",
        "!chmod 600 ~/.kaggle/kaggle.json"
      ],
      "metadata": {
        "id": "HQOeXD8WWWlr"
      },
      "execution_count": null,
      "outputs": []
    },
    {
      "cell_type": "code",
      "source": [
        "#원하는 kaggle 대회 api 복사해오기 (대회 데이터 들어가면 command line 보임)\n",
        "!kaggle command line"
      ],
      "metadata": {
        "id": "XQM9vGopWugk"
      },
      "execution_count": null,
      "outputs": []
    },
    {
      "cell_type": "code",
      "source": [
        "#다운로드된 파일 모두 확인\n",
        "!ls"
      ],
      "metadata": {
        "id": "7AUoUTPQXYH1"
      },
      "execution_count": null,
      "outputs": []
    },
    {
      "cell_type": "code",
      "source": [
        "#zip 파일이면 풀어주기\n",
        "!unzip file path"
      ],
      "metadata": {
        "id": "67aw22SJXlVm"
      },
      "execution_count": null,
      "outputs": []
    }
  ]
}